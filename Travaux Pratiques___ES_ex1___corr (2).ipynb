{
 "cells": [
  {
   "cell_type": "code",
   "execution_count": 35,
   "metadata": {},
   "outputs": [
    {
     "name": "stdout",
     "output_type": "stream",
     "text": [
      "Yay Connect\n",
      "creating index...\n"
     ]
    }
   ],
   "source": [
    "import pandas as pd\n",
    "import numpy as np\n",
    "from elasticsearch import helpers, Elasticsearch\n",
    "\n",
    "\n",
    "\n",
    "\n",
    "def create_index(es_instance, _index):\n",
    "    request_body = {\n",
    "        \"settings\" : {\n",
    "            \"number_of_shards\": 5,\n",
    "            \"number_of_replicas\": 1\n",
    "        },\n",
    "        \"settings\": {\"max_result_window\": \"100000\"},\n",
    "\n",
    "        'mappings': {\n",
    "                'properties': {\n",
    "                    \n",
    "                    'title':  {'type': 'text'},\n",
    "                    'seo_title':  {'type': 'text'},\n",
    "                    'url':  {'type': 'text'},\n",
    "                    'author':  {'type': 'text'},\n",
    "                    'date':  {'type': 'text'},\n",
    "                    'category':  {'type': 'text'},\n",
    "                    'locales':  {'type': 'text'},\n",
    "                    'content':  {'type': 'text'},\n",
    "                \n",
    "                    }}}\n",
    "    \n",
    "\n",
    "\n",
    "    print(\"creating index...\")\n",
    "    es_instance.indices.create(index = _index, body = request_body)\n",
    "          \n",
    "          \n",
    "                       \n",
    "            \n",
    "#Index pour le test    \n",
    "raw_index = 'blogs'\n",
    "\n",
    "#Se connecter à elastic\n",
    "host=\"localhost\"\n",
    "port=9200\n",
    "          \n",
    "es = Elasticsearch(hosts = [{'host': host, 'port': 9200}])\n",
    "if es.ping():\n",
    "    print('Yay Connect')\n",
    "    \n",
    "    \n",
    "es.indices.delete(index=raw_index, ignore=[400, 404])\n",
    "create_index(es, raw_index)"
   ]
  },
  {
   "cell_type": "code",
   "execution_count": 36,
   "metadata": {},
   "outputs": [],
   "source": [
    "df = pd.read_csv('C:/Users/sboubakri/Downloads/Labs-ES/Labs-ES/blogs.csv', header=None, encoding = \"ISO-8859-1\",sep=';')\n",
    "df.columns =  columns = ['title','seo_title','url','author','date','category','locales', 'content']\n"
   ]
  },
  {
   "cell_type": "code",
   "execution_count": 37,
   "metadata": {},
   "outputs": [],
   "source": [
    "bulk_data = []\n",
    "for idx, row in df.iterrows():\n",
    "    data_dict = {}\n",
    "\n",
    "    for i in range(len(row)):\n",
    "        data_dict[df.columns[i]] = str(row[i])\n",
    "\n",
    "\n",
    "    op_dict = {\n",
    "        \"index\": {\n",
    "            \"_index\": 'blogs',\n",
    "            \"_type\": '_doc'\n",
    "        }\n",
    "    }\n",
    "    bulk_data.append(op_dict)\n",
    "    bulk_data.append(data_dict)"
   ]
  },
  {
   "cell_type": "code",
   "execution_count": 39,
   "metadata": {},
   "outputs": [],
   "source": [
    "res = es.bulk(index='blogs',body=bulk_data, refresh = True, request_timeout=200)"
   ]
  }
 ],
 "metadata": {
  "kernelspec": {
   "display_name": "Python 3",
   "language": "python",
   "name": "python3"
  },
  "language_info": {
   "codemirror_mode": {
    "name": "ipython",
    "version": 3
   },
   "file_extension": ".py",
   "mimetype": "text/x-python",
   "name": "python",
   "nbconvert_exporter": "python",
   "pygments_lexer": "ipython3",
   "version": "3.8.1"
  }
 },
 "nbformat": 4,
 "nbformat_minor": 2
}
